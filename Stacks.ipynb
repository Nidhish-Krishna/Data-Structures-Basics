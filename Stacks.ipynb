{
 "cells": [
  {
   "cell_type": "markdown",
   "metadata": {},
   "source": [
    "# STACKS"
   ]
  },
  {
   "cell_type": "markdown",
   "metadata": {},
   "source": [
    "# Stacks using array"
   ]
  },
  {
   "cell_type": "code",
   "execution_count": 5,
   "metadata": {},
   "outputs": [
    {
     "name": "stdout",
     "output_type": "stream",
     "text": [
      "2\n",
      "1\n"
     ]
    }
   ],
   "source": [
    "class Stack:\n",
    "    def __init__(self):\n",
    "        self.__items=[]\n",
    "    def push(self,data):\n",
    "        self.__items.append(data)\n",
    "    def pop(self):\n",
    "        if self.isEmpty()==True:\n",
    "            return None\n",
    "        return(self.__items.pop())\n",
    "\n",
    "    def top(self):\n",
    "        if self.isEmpty()==True:\n",
    "            return None\n",
    "        return(self.__items[-1])\n",
    "    def size(self):\n",
    "        return(len(self.__items))\n",
    "    \n",
    "    def isEmpty(self):\n",
    "        return (len(self.__items)==0)\n",
    "    \n",
    "    \n",
    "s=Stack()\n",
    "s.push(1)\n",
    "s.push(2)\n",
    "while s.isEmpty()!=True:\n",
    "    print(s.pop())"
   ]
  },
  {
   "cell_type": "markdown",
   "metadata": {},
   "source": [
    "# Stack using Linked List"
   ]
  },
  {
   "cell_type": "code",
   "execution_count": 14,
   "metadata": {},
   "outputs": [
    {
     "name": "stdout",
     "output_type": "stream",
     "text": [
      "4\n",
      "3\n",
      "2\n",
      "1\n"
     ]
    }
   ],
   "source": [
    "class Node:\n",
    "    def __init__(self,data):\n",
    "        self.data=data\n",
    "        self.__next=None\n",
    "        \n",
    "class Stack:\n",
    "    def __init__(self):\n",
    "        self.__head=None\n",
    "        self.__count=0\n",
    "        \n",
    "    def push(self,data):\n",
    "        newnode=Node(data)\n",
    "        newnode.next=self.__head\n",
    "        self.__head=newnode\n",
    "        self.__count+=1\n",
    "        \n",
    "        \n",
    "    def pop(self):\n",
    "        if self.__count==0:\n",
    "            return None\n",
    "        \n",
    "        data=self.__head.data\n",
    "        self.__head=self.__head.next\n",
    "        self.__count-=1\n",
    "        return data\n",
    "    \n",
    "    def top(self):\n",
    "        if self.__count==0:\n",
    "            return None\n",
    "        return(self.__head.data)\n",
    "    \n",
    "    def isEmpty(self):\n",
    "        return (self.__count==0)\n",
    "    \n",
    "    def size(self):\n",
    "        return(self.__count)\n",
    "            \n",
    "s=Stack()\n",
    "s.push(1)\n",
    "s.push(2)\n",
    "s.push(3)\n",
    "s.push(4)\n",
    "\n",
    "while s.isEmpty()==False:\n",
    "    print(s.pop())"
   ]
  },
  {
   "cell_type": "markdown",
   "metadata": {},
   "source": [
    "# Balanced Paranthesis"
   ]
  },
  {
   "cell_type": "code",
   "execution_count": 19,
   "metadata": {},
   "outputs": [
    {
     "name": "stdout",
     "output_type": "stream",
     "text": [
      "False\n"
     ]
    }
   ],
   "source": [
    "def bal(st):\n",
    "    #t=len(s)\n",
    "    l=[]\n",
    "    for i in range(len(st)):\n",
    "        if st[i] in '({[':\n",
    "            l.append(st[i])\n",
    "        \n",
    "        elif st[i]==')':\n",
    "            if(not s or l[-1]!='('):\n",
    "                return False\n",
    "            l.pop()\n",
    "        elif st[i]==']':\n",
    "            if(not s or l[-1]!='['):\n",
    "                return False\n",
    "            l.pop()\n",
    "        elif st[i]=='}':\n",
    "            if(not s or l[-1]!='{'):\n",
    "                return False\n",
    "            l.pop()\n",
    "    \n",
    "    if len(l)==0:\n",
    "        return True\n",
    "    \n",
    "    return False\n",
    "\n",
    "s='{([]])}'\n",
    "\n",
    "print(bal(s))\n",
    "        "
   ]
  },
  {
   "cell_type": "markdown",
   "metadata": {},
   "source": [
    "# Stock Span Problem - Brute Force"
   ]
  },
  {
   "cell_type": "code",
   "execution_count": 23,
   "metadata": {},
   "outputs": [
    {
     "name": "stdout",
     "output_type": "stream",
     "text": [
      "[1, 1, 3, 1, 5]\n"
     ]
    }
   ],
   "source": [
    "def span(li):\n",
    "    a=[]\n",
    "    c=1\n",
    "    for i in range(len(li)):\n",
    "        c=1\n",
    "        for j in range(i-1,-1,-1):\n",
    "            if li[j]<=li[i]:\n",
    "                c+=1\n",
    "            else:\n",
    "                break\n",
    "        a.append(c)\n",
    "\n",
    "    return a\n",
    "\n",
    "s=[30,20,40,10,60]\n",
    "print(span(s))"
   ]
  },
  {
   "cell_type": "markdown",
   "metadata": {},
   "source": [
    "# Stock Span Problem - Optimised Approach using Stacks"
   ]
  },
  {
   "cell_type": "code",
   "execution_count": 36,
   "metadata": {},
   "outputs": [
    {
     "name": "stdout",
     "output_type": "stream",
     "text": [
      "[1, 2, 3, 1, 5]\n"
     ]
    }
   ],
   "source": [
    "def span(li):\n",
    "    a=[]\n",
    "    s=[]\n",
    "    s.append(0)\n",
    "    #a.append(1)\n",
    "    \n",
    "    for i in range(len(li)):\n",
    "        a.append(1)\n",
    "        \n",
    "        while len(s)!=0 and li[s[-1]]<=li[i]:\n",
    "            s.pop()\n",
    "            \n",
    "        if len(s)==0:\n",
    "            a[i]=i+1\n",
    "        else:\n",
    "            a[i]=i-s[-1]\n",
    "            \n",
    "        s.append(i)\n",
    "        \n",
    "    return a\n",
    "\n",
    "s=[30,35,40,10,60]\n",
    "print(span(s))"
   ]
  },
  {
   "cell_type": "markdown",
   "metadata": {},
   "source": [
    "# Reverse a Stack - Using two stacks and Recursion"
   ]
  },
  {
   "cell_type": "code",
   "execution_count": 37,
   "metadata": {},
   "outputs": [
    {
     "name": "stdout",
     "output_type": "stream",
     "text": [
      "[1, 2, 3, 4, 5]\n",
      "[5, 4, 3, 2, 1]\n"
     ]
    }
   ],
   "source": [
    "def reversestack(s1,s2):\n",
    "    \n",
    "    if len(s1)<=1:\n",
    "        return\n",
    "    \n",
    "    while len(s1)!=1:\n",
    "        x=s1.pop()\n",
    "        s2.append(x)\n",
    "    \n",
    "    last_element=s1.pop()\n",
    "    while len(s2)!=0:\n",
    "        y=s2.pop()\n",
    "        s1.append(y)\n",
    "        \n",
    "    reversestack(s1,s2)\n",
    "    s1.append(last_element)\n",
    "    \n",
    "s=[1,2,3,4,5]\n",
    "y=[]\n",
    "print(s)\n",
    "reversestack(s,y)\n",
    "print(s)\n",
    "\n",
    "        "
   ]
  },
  {
   "cell_type": "markdown",
   "metadata": {},
   "source": [
    "# Reverse a Stack - Without using empty stack and recursion"
   ]
  },
  {
   "cell_type": "code",
   "execution_count": 41,
   "metadata": {},
   "outputs": [
    {
     "name": "stdout",
     "output_type": "stream",
     "text": [
      "[1, 2, 3, 4, 5]\n",
      "[5, 4, 3, 2, 1]\n"
     ]
    }
   ],
   "source": [
    "def reversestack(st):\n",
    "    if len(st)==0:\n",
    "        return \n",
    "    data=st.pop()\n",
    "    reversestack(st)\n",
    "    insertatbottom(st,data)\n",
    "\n",
    "def insertatbottom(st,data):\n",
    "    if len(s)==0:\n",
    "        st.append(data)\n",
    "        return\n",
    "    temp=st.pop()\n",
    "    insertatbottom(st,data)\n",
    "    st.append(temp)\n",
    "    \n",
    "s=[1,2,3,4,5]\n",
    "print(s)\n",
    "reversestack(s)\n",
    "print(s)"
   ]
  },
  {
   "cell_type": "markdown",
   "metadata": {},
   "source": [
    "# Check Redundant Brackets - Generic Approach"
   ]
  },
  {
   "cell_type": "code",
   "execution_count": 1,
   "metadata": {},
   "outputs": [
    {
     "name": "stdout",
     "output_type": "stream",
     "text": [
      "True\n"
     ]
    }
   ],
   "source": [
    "def redundantbrackets(li):\n",
    "    temp=0\n",
    "    for i in range(len(li)-1):\n",
    "        a=li[i]\n",
    "        b=li[i+1]\n",
    "        \n",
    "        if a=='('and b==')':\n",
    "            return True\n",
    "        elif a=='(' and b=='(':\n",
    "            temp=1\n",
    "        elif a==')' and b==')' and temp==1:\n",
    "            return True\n",
    "        \n",
    "    return False\n",
    "\n",
    "s='((a+b))'\n",
    "print(redundantbrackets(s))"
   ]
  },
  {
   "cell_type": "markdown",
   "metadata": {},
   "source": [
    "# Check Redundant Brackets - Using Stacks"
   ]
  },
  {
   "cell_type": "code",
   "execution_count": 3,
   "metadata": {},
   "outputs": [
    {
     "name": "stdout",
     "output_type": "stream",
     "text": [
      "True\n"
     ]
    }
   ],
   "source": [
    "def redundantbrackets(li):\n",
    "    s=[]\n",
    "    \n",
    "    for i in range(len(li)):\n",
    "        \n",
    "        if li[i]==')':\n",
    "            if s.pop()!='(':\n",
    "                return True\n",
    "            s.pop()\n",
    "        else:\n",
    "            s.append(li[i])\n",
    "            \n",
    "    return \n",
    "\n",
    "s='((a+b))'\n",
    "print(redundantbrackets(s))"
   ]
  },
  {
   "cell_type": "markdown",
   "metadata": {},
   "source": [
    "# Number of Bracket Reversals required to Balance a string"
   ]
  },
  {
   "cell_type": "code",
   "execution_count": 8,
   "metadata": {},
   "outputs": [
    {
     "name": "stdout",
     "output_type": "stream",
     "text": [
      "1\n"
     ]
    }
   ],
   "source": [
    "import math\n",
    "\n",
    "def reversal(li):\n",
    "    if len(li)==0:\n",
    "        return\n",
    "    if len(li)%2!=0:\n",
    "        return\n",
    "    s=[]\n",
    "    \n",
    "    for c in li:\n",
    "        if c=='{':\n",
    "            s.append(c)\n",
    "        else:\n",
    "            if (len(s)>0 and s[-1]!='{'):\n",
    "                s.pop()\n",
    "            else:\n",
    "                s.append(c)\n",
    "    m=0 \n",
    "    n=0\n",
    "    \n",
    "    while (len(s)!=0):\n",
    "        x=s.pop()\n",
    "        if x=='{':\n",
    "            m+=1\n",
    "        else:\n",
    "            n+=1\n",
    "    \n",
    "    \n",
    "    m=math.ceil(m/2)\n",
    "    n=math.ceil(n/2)\n",
    "    \n",
    "    return m+n\n",
    "\n",
    "\n",
    "s='{{}}'\n",
    "\n",
    "print(reversal(s))"
   ]
  },
  {
   "cell_type": "markdown",
   "metadata": {},
   "source": [
    "# Number of Bracket reversals required to Balance a string"
   ]
  },
  {
   "cell_type": "code",
   "execution_count": 9,
   "metadata": {},
   "outputs": [
    {
     "name": "stdout",
     "output_type": "stream",
     "text": [
      "1\n"
     ]
    }
   ],
   "source": [
    "\n",
    "def reversal(li):\n",
    "    if len(li)==0:\n",
    "        return\n",
    "    if len(li)%2!=0:\n",
    "        return\n",
    "    s=[]\n",
    "    \n",
    "    for c in li:\n",
    "        if c=='{':\n",
    "            s.append(c)\n",
    "        else:\n",
    "            if (len(s)>0 and s[-1]!='{'):\n",
    "                s.pop()\n",
    "            else:\n",
    "                s.append(c)\n",
    "                \n",
    "    count=0\n",
    "    \n",
    "    \n",
    "    while len(s)!=0:\n",
    "        c1=s.pop()\n",
    "        c2=s.pop()\n",
    "        \n",
    "        if c1!=c2:\n",
    "            count+=2\n",
    "        else:\n",
    "            count+=1\n",
    "    return count\n",
    "\n",
    "s='{{}}'\n",
    "\n",
    "print(reversal(s))"
   ]
  }
 ],
 "metadata": {
  "kernelspec": {
   "display_name": "Python 3",
   "language": "python",
   "name": "python3"
  },
  "language_info": {
   "codemirror_mode": {
    "name": "ipython",
    "version": 3
   },
   "file_extension": ".py",
   "mimetype": "text/x-python",
   "name": "python",
   "nbconvert_exporter": "python",
   "pygments_lexer": "ipython3",
   "version": "3.7.6"
  }
 },
 "nbformat": 4,
 "nbformat_minor": 4
}
